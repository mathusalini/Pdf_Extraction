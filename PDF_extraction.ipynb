{
  "nbformat": 4,
  "nbformat_minor": 0,
  "metadata": {
    "colab": {
      "provenance": [],
      "include_colab_link": true
    },
    "kernelspec": {
      "name": "python3",
      "display_name": "Python 3"
    },
    "language_info": {
      "name": "python"
    }
  },
  "cells": [
    {
      "cell_type": "markdown",
      "metadata": {
        "id": "view-in-github",
        "colab_type": "text"
      },
      "source": [
        "<a href=\"https://colab.research.google.com/github/mathusalini/Pdf_Extraction/blob/main/PDF_extraction.ipynb\" target=\"_parent\"><img src=\"https://colab.research.google.com/assets/colab-badge.svg\" alt=\"Open In Colab\"/></a>"
      ]
    },
    {
      "cell_type": "markdown",
      "source": [
        "# Extracted from PDF"
      ],
      "metadata": {
        "id": "mo1IITVy3-8-"
      }
    },
    {
      "cell_type": "code",
      "execution_count": null,
      "metadata": {
        "id": "gteDd4c7xedu"
      },
      "outputs": [],
      "source": [
        "# Step 1: Upload PDF\n",
        "from google.colab import files\n",
        "uploaded = files.upload()\n",
        "\n",
        "# Step 2: Install pdfplumber\n",
        "!pip install pdfplumber\n",
        "\n",
        "# Step 3: Extract text and show directly\n",
        "import pdfplumber\n",
        "\n",
        "# Get the uploaded file name\n",
        "pdf_file = list(uploaded.keys())[0]\n",
        "\n",
        "text = \"\"\n",
        "with pdfplumber.open(pdf_file) as pdf:\n",
        "    for page in pdf.pages:\n",
        "        text += page.extract_text() + \"\\n\"\n",
        "\n",
        "# Print the extracted text\n",
        "print(\"📄 Extracted Text:\\n\")\n",
        "print(text)\n"
      ]
    },
    {
      "cell_type": "markdown",
      "source": [
        "#PDF AND IMAGE BASED extraction"
      ],
      "metadata": {
        "id": "CZUjvg8s4FLU"
      }
    },
    {
      "cell_type": "code",
      "source": [
        "# Step 1: Upload PDF\n",
        "from google.colab import files\n",
        "uploaded = files.upload()\n",
        "\n",
        "# Step 2: Install required libraries\n",
        "!pip install pdfplumber pytesseract pdf2image pillow\n",
        "!apt-get install -y poppler-utils\n",
        "\n",
        "import pdfplumber\n",
        "import pytesseract\n",
        "from pdf2image import convert_from_path\n",
        "\n",
        "# Get uploaded file name\n",
        "pdf_file = list(uploaded.keys())[0]\n",
        "\n",
        "# Try extracting with pdfplumber first\n",
        "text = \"\"\n",
        "with pdfplumber.open(pdf_file) as pdf:\n",
        "    for page in pdf.pages:\n",
        "        page_text = page.extract_text()\n",
        "        if page_text:\n",
        "            text += page_text + \"\\n\"\n",
        "\n",
        "# If pdfplumber found no text, use OCR\n",
        "if not text.strip():\n",
        "    print(\"⚡ No text found with pdfplumber. Using OCR...\")\n",
        "    pages = convert_from_path(pdf_file)\n",
        "    for page in pages:\n",
        "        text += pytesseract.image_to_string(page) + \"\\n\"\n",
        "\n",
        "# Show the extracted text\n",
        "print(\"📄 Extracted Text:\\n\")\n",
        "print(text)\n"
      ],
      "metadata": {
        "id": "98kkpznZ4P8X"
      },
      "execution_count": null,
      "outputs": []
    },
    {
      "cell_type": "markdown",
      "source": [
        "#extract from an image file"
      ],
      "metadata": {
        "id": "ZRZgUqGN6ytY"
      }
    },
    {
      "cell_type": "code",
      "source": [
        "# Step 1: Upload image\n",
        "from google.colab import files\n",
        "uploaded = files.upload()\n",
        "\n",
        "# Step 2: Install pytesseract\n",
        "!pip install pytesseract pillow\n",
        "\n",
        "from PIL import Image\n",
        "import pytesseract\n",
        "\n",
        "# Get uploaded file name\n",
        "image_file = list(uploaded.keys())[0]\n",
        "\n",
        "# Extract text using OCR\n",
        "text = pytesseract.image_to_string(Image.open(image_file))\n",
        "\n",
        "# Show extracted text\n",
        "print(\"📄 Extracted Text:\\n\")\n",
        "print(text)\n"
      ],
      "metadata": {
        "id": "GT3-BL4G64SX"
      },
      "execution_count": null,
      "outputs": []
    },
    {
      "cell_type": "markdown",
      "source": [
        "# Ask user_Document type"
      ],
      "metadata": {
        "id": "uKMAA-i69K4A"
      }
    },
    {
      "cell_type": "code",
      "source": [
        "# Step 1: Upload file\n",
        "from google.colab import files\n",
        "uploaded = files.upload()\n",
        "\n",
        "# Step 2: Ask user for file type\n",
        "file_type = input(\"Enter the type of your file (pdf/image): \").strip().lower()\n",
        "\n",
        "# Step 3: Install required libraries\n",
        "!pip install pdfplumber pytesseract pdf2image pillow\n",
        "!apt-get install -y poppler-utils\n",
        "\n",
        "import pytesseract\n",
        "from pdf2image import convert_from_path\n",
        "import pdfplumber\n",
        "from PIL import Image\n",
        "\n",
        "# Get uploaded file name\n",
        "file_name = list(uploaded.keys())[0]\n",
        "\n",
        "text = \"\"\n",
        "\n",
        "# If file is PDF\n",
        "if file_type == \"pdf\":\n",
        "    with pdfplumber.open(file_name) as pdf:\n",
        "        for page in pdf.pages:\n",
        "            page_text = page.extract_text()\n",
        "            if page_text:\n",
        "                text += page_text + \"\\n\"\n",
        "\n",
        "    # If pdfplumber found no text, use OCR\n",
        "    if not text.strip():\n",
        "        print(\"⚡ No text found in PDF, using OCR...\")\n",
        "        pages = convert_from_path(file_name)\n",
        "        for page in pages:\n",
        "            text += pytesseract.image_to_string(page) + \"\\n\"\n",
        "\n",
        "# If file is an image\n",
        "elif file_type == \"image\":\n",
        "    text = pytesseract.image_to_string(Image.open(file_name))\n",
        "\n",
        "else:\n",
        "    print(\"❌ Invalid file type entered. Please choose 'pdf' or 'image'.\")\n",
        "\n",
        "# Show extracted text\n",
        "print(\"📄 Extracted Text:\\n\")\n",
        "print(text)\n"
      ],
      "metadata": {
        "id": "gaanWqyc9RHA"
      },
      "execution_count": null,
      "outputs": []
    },
    {
      "cell_type": "markdown",
      "source": [
        "# pick the option_PDF extraction"
      ],
      "metadata": {
        "id": "YfYSPTCOkZBB"
      }
    },
    {
      "cell_type": "code",
      "source": [
        "# Step 1: Upload file\n",
        "from google.colab import files\n",
        "uploaded = files.upload()\n",
        "\n",
        "# Step 2: Install required libraries\n",
        "!pip install pdfplumber pytesseract pdf2image pillow ipywidgets\n",
        "!apt-get install -y poppler-utils\n",
        "\n",
        "import pytesseract\n",
        "from pdf2image import convert_from_path\n",
        "import pdfplumber\n",
        "from PIL import Image\n",
        "import ipywidgets as widgets\n",
        "from IPython.display import display\n",
        "\n",
        "# Get uploaded file name\n",
        "file_name = list(uploaded.keys())[0]\n",
        "\n",
        "# Step 3: Create dropdown menu for file type\n",
        "file_type = widgets.Dropdown(\n",
        "    options=['pdf', 'image'],\n",
        "    value='pdf',\n",
        "    description='File type:',\n",
        ")\n",
        "\n",
        "display(file_type)\n",
        "\n",
        "# Function to process the file\n",
        "def process_file(file_type_value):\n",
        "    text = \"\"\n",
        "\n",
        "    if file_type_value == \"pdf\":\n",
        "        with pdfplumber.open(file_name) as pdf:\n",
        "            for page in pdf.pages:\n",
        "                page_text = page.extract_text()\n",
        "                if page_text:\n",
        "                    text += page_text + \"\\n\"\n",
        "\n",
        "        if not text.strip():  # If no text, use OCR\n",
        "            print(\"⚡ No text found in PDF, using OCR...\")\n",
        "            pages = convert_from_path(file_name)\n",
        "            for page in pages:\n",
        "                text += pytesseract.image_to_string(page) + \"\\n\"\n",
        "\n",
        "    elif file_type_value == \"image\":\n",
        "        text = pytesseract.image_to_string(Image.open(file_name))\n",
        "\n",
        "    print(\"📄 Extracted Text:\\n\")\n",
        "    print(text)\n",
        "\n",
        "# Button to trigger extraction\n",
        "button = widgets.Button(description=\"Extract Text\")\n",
        "\n",
        "def on_button_click(b):\n",
        "    process_file(file_type.value)\n",
        "\n",
        "button.on_click(on_button_click)\n",
        "display(button)\n"
      ],
      "metadata": {
        "id": "A7u9sxrLkcq1"
      },
      "execution_count": null,
      "outputs": []
    }
  ]
}